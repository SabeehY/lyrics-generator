{
 "cells": [
  {
   "cell_type": "code",
   "execution_count": 1,
   "metadata": {},
   "outputs": [],
   "source": [
    "import pandas as pd"
   ]
  },
  {
   "cell_type": "code",
   "execution_count": 2,
   "metadata": {},
   "outputs": [],
   "source": [
    "df = pd.read_excel('dataset.xlsx')"
   ]
  },
  {
   "cell_type": "code",
   "execution_count": 3,
   "metadata": {},
   "outputs": [
    {
     "data": {
      "text/html": [
       "<div>\n",
       "<style scoped>\n",
       "    .dataframe tbody tr th:only-of-type {\n",
       "        vertical-align: middle;\n",
       "    }\n",
       "\n",
       "    .dataframe tbody tr th {\n",
       "        vertical-align: top;\n",
       "    }\n",
       "\n",
       "    .dataframe thead th {\n",
       "        text-align: right;\n",
       "    }\n",
       "</style>\n",
       "<table border=\"1\" class=\"dataframe\">\n",
       "  <thead>\n",
       "    <tr style=\"text-align: right;\">\n",
       "      <th></th>\n",
       "      <th>ALink</th>\n",
       "      <th>SName</th>\n",
       "      <th>SLink</th>\n",
       "      <th>Lyric</th>\n",
       "      <th>Idiom</th>\n",
       "      <th>artist</th>\n",
       "      <th>genre</th>\n",
       "      <th>Genres</th>\n",
       "    </tr>\n",
       "  </thead>\n",
       "  <tbody>\n",
       "    <tr>\n",
       "      <th>0</th>\n",
       "      <td>/10000-maniacs/</td>\n",
       "      <td>More Than This</td>\n",
       "      <td>/10000-maniacs/more-than-this.html</td>\n",
       "      <td>I could feel at the time. There was no way of ...</td>\n",
       "      <td>ENGLISH</td>\n",
       "      <td>10000 Maniacs</td>\n",
       "      <td>Rock</td>\n",
       "      <td>Rock; Pop; Electronica; Dance; J-Pop/J-Rock; G...</td>\n",
       "    </tr>\n",
       "    <tr>\n",
       "      <th>1</th>\n",
       "      <td>/10000-maniacs/</td>\n",
       "      <td>Because The Night</td>\n",
       "      <td>/10000-maniacs/because-the-night.html</td>\n",
       "      <td>Take me now, baby, here as I am. Hold me close...</td>\n",
       "      <td>ENGLISH</td>\n",
       "      <td>10000 Maniacs</td>\n",
       "      <td>Rock</td>\n",
       "      <td>Rock; Pop; Electronica; Dance; J-Pop/J-Rock; G...</td>\n",
       "    </tr>\n",
       "    <tr>\n",
       "      <th>2</th>\n",
       "      <td>/10000-maniacs/</td>\n",
       "      <td>These Are Days</td>\n",
       "      <td>/10000-maniacs/these-are-days.html</td>\n",
       "      <td>These are. These are days you'll remember. Nev...</td>\n",
       "      <td>ENGLISH</td>\n",
       "      <td>10000 Maniacs</td>\n",
       "      <td>Rock</td>\n",
       "      <td>Rock; Pop; Electronica; Dance; J-Pop/J-Rock; G...</td>\n",
       "    </tr>\n",
       "    <tr>\n",
       "      <th>3</th>\n",
       "      <td>/10000-maniacs/</td>\n",
       "      <td>A Campfire Song</td>\n",
       "      <td>/10000-maniacs/a-campfire-song.html</td>\n",
       "      <td>A lie to say, \"O my mountain has coal veins an...</td>\n",
       "      <td>ENGLISH</td>\n",
       "      <td>10000 Maniacs</td>\n",
       "      <td>Rock</td>\n",
       "      <td>Rock; Pop; Electronica; Dance; J-Pop/J-Rock; G...</td>\n",
       "    </tr>\n",
       "    <tr>\n",
       "      <th>4</th>\n",
       "      <td>/10000-maniacs/</td>\n",
       "      <td>Everyday Is Like Sunday</td>\n",
       "      <td>/10000-maniacs/everyday-is-like-sunday.html</td>\n",
       "      <td>Trudging slowly over wet sand. Back to the ben...</td>\n",
       "      <td>ENGLISH</td>\n",
       "      <td>10000 Maniacs</td>\n",
       "      <td>Rock</td>\n",
       "      <td>Rock; Pop; Electronica; Dance; J-Pop/J-Rock; G...</td>\n",
       "    </tr>\n",
       "  </tbody>\n",
       "</table>\n",
       "</div>"
      ],
      "text/plain": [
       "             ALink                    SName  \\\n",
       "0  /10000-maniacs/           More Than This   \n",
       "1  /10000-maniacs/        Because The Night   \n",
       "2  /10000-maniacs/           These Are Days   \n",
       "3  /10000-maniacs/          A Campfire Song   \n",
       "4  /10000-maniacs/  Everyday Is Like Sunday   \n",
       "\n",
       "                                         SLink  \\\n",
       "0           /10000-maniacs/more-than-this.html   \n",
       "1        /10000-maniacs/because-the-night.html   \n",
       "2           /10000-maniacs/these-are-days.html   \n",
       "3          /10000-maniacs/a-campfire-song.html   \n",
       "4  /10000-maniacs/everyday-is-like-sunday.html   \n",
       "\n",
       "                                               Lyric    Idiom         artist  \\\n",
       "0  I could feel at the time. There was no way of ...  ENGLISH  10000 Maniacs   \n",
       "1  Take me now, baby, here as I am. Hold me close...  ENGLISH  10000 Maniacs   \n",
       "2  These are. These are days you'll remember. Nev...  ENGLISH  10000 Maniacs   \n",
       "3  A lie to say, \"O my mountain has coal veins an...  ENGLISH  10000 Maniacs   \n",
       "4  Trudging slowly over wet sand. Back to the ben...  ENGLISH  10000 Maniacs   \n",
       "\n",
       "  genre                                             Genres  \n",
       "0  Rock  Rock; Pop; Electronica; Dance; J-Pop/J-Rock; G...  \n",
       "1  Rock  Rock; Pop; Electronica; Dance; J-Pop/J-Rock; G...  \n",
       "2  Rock  Rock; Pop; Electronica; Dance; J-Pop/J-Rock; G...  \n",
       "3  Rock  Rock; Pop; Electronica; Dance; J-Pop/J-Rock; G...  \n",
       "4  Rock  Rock; Pop; Electronica; Dance; J-Pop/J-Rock; G...  "
      ]
     },
     "execution_count": 3,
     "metadata": {},
     "output_type": "execute_result"
    }
   ],
   "source": [
    "df.head()"
   ]
  },
  {
   "cell_type": "code",
   "execution_count": 130,
   "metadata": {},
   "outputs": [],
   "source": [
    "lc = df['Lyric']"
   ]
  },
  {
   "cell_type": "markdown",
   "metadata": {},
   "source": [
    "## Exploring Lyrics Column"
   ]
  },
  {
   "cell_type": "markdown",
   "metadata": {},
   "source": [
    "#### How is the song length distributed"
   ]
  },
  {
   "cell_type": "code",
   "execution_count": 131,
   "metadata": {},
   "outputs": [
    {
     "data": {
      "text/plain": [
       "count    47635.000000\n",
       "mean      1068.924740\n",
       "std        556.149603\n",
       "min          9.000000\n",
       "25%        731.000000\n",
       "50%        998.000000\n",
       "75%       1311.000000\n",
       "max      19578.000000\n",
       "Name: Lyric, dtype: float64"
      ]
     },
     "execution_count": 131,
     "metadata": {},
     "output_type": "execute_result"
    }
   ],
   "source": [
    "lc.str.len().describe()"
   ]
  },
  {
   "cell_type": "markdown",
   "metadata": {},
   "source": [
    "#### Maximum song length in the 99th quantile"
   ]
  },
  {
   "cell_type": "code",
   "execution_count": 132,
   "metadata": {},
   "outputs": [
    {
     "data": {
      "text/plain": [
       "2695.659999999996"
      ]
     },
     "execution_count": 132,
     "metadata": {},
     "output_type": "execute_result"
    }
   ],
   "source": [
    "lc.str.len().quantile(0.99)"
   ]
  },
  {
   "cell_type": "markdown",
   "metadata": {},
   "source": [
    "#### Plotting the 95th quantile"
   ]
  },
  {
   "cell_type": "code",
   "execution_count": 133,
   "metadata": {},
   "outputs": [
    {
     "data": {
      "text/plain": [
       "<matplotlib.axes._subplots.AxesSubplot at 0x7f860b831250>"
      ]
     },
     "execution_count": 133,
     "metadata": {},
     "output_type": "execute_result"
    },
    {
     "data": {
      "image/png": "[encoded data removed]",
      "text/plain": [
       "<Figure size 1440x360 with 1 Axes>"
      ]
     },
     "metadata": {
      "needs_background": "light"
     },
     "output_type": "display_data"
    }
   ],
   "source": [
    "lc[lc.str.len() < 2695].str.len().hist(figsize=(20,5), bins=200)"
   ]
  },
  {
   "cell_type": "code",
   "execution_count": 135,
   "metadata": {},
   "outputs": [],
   "source": [
    "df_cleaned = df[(lc.str.len() > 30) & (lc.str.len() < 2695)]"
   ]
  },
  {
   "cell_type": "markdown",
   "metadata": {},
   "source": [
    "#### Duplicated values"
   ]
  },
  {
   "cell_type": "code",
   "execution_count": 138,
   "metadata": {},
   "outputs": [],
   "source": [
    "df_cleaned = df_cleaned.drop_duplicates(subset='Lyric')"
   ]
  },
  {
   "cell_type": "markdown",
   "metadata": {},
   "source": [
    "#### Removing songs with chords, i.e '------'"
   ]
  },
  {
   "cell_type": "code",
   "execution_count": 139,
   "metadata": {},
   "outputs": [
    {
     "name": "stderr",
     "output_type": "stream",
     "text": [
      "/Applications/anaconda3/lib/python3.7/site-packages/ipykernel_launcher.py:1: UserWarning: Boolean Series key will be reindexed to match DataFrame index.\n",
      "  \"\"\"Entry point for launching an IPython kernel.\n"
     ]
    }
   ],
   "source": [
    "df_cleaned = df_cleaned[~lc.str.contains('------')]"
   ]
  },
  {
   "cell_type": "code",
   "execution_count": 140,
   "metadata": {},
   "outputs": [
    {
     "data": {
      "text/html": [
       "<div>\n",
       "<style scoped>\n",
       "    .dataframe tbody tr th:only-of-type {\n",
       "        vertical-align: middle;\n",
       "    }\n",
       "\n",
       "    .dataframe tbody tr th {\n",
       "        vertical-align: top;\n",
       "    }\n",
       "\n",
       "    .dataframe thead th {\n",
       "        text-align: right;\n",
       "    }\n",
       "</style>\n",
       "<table border=\"1\" class=\"dataframe\">\n",
       "  <thead>\n",
       "    <tr style=\"text-align: right;\">\n",
       "      <th></th>\n",
       "      <th>ALink</th>\n",
       "      <th>SName</th>\n",
       "      <th>SLink</th>\n",
       "      <th>Lyric</th>\n",
       "      <th>Idiom</th>\n",
       "      <th>artist</th>\n",
       "      <th>genre</th>\n",
       "      <th>Genres</th>\n",
       "    </tr>\n",
       "  </thead>\n",
       "  <tbody>\n",
       "    <tr>\n",
       "      <th>0</th>\n",
       "      <td>/10000-maniacs/</td>\n",
       "      <td>More Than This</td>\n",
       "      <td>/10000-maniacs/more-than-this.html</td>\n",
       "      <td>I could feel at the time. There was no way of ...</td>\n",
       "      <td>ENGLISH</td>\n",
       "      <td>10000 Maniacs</td>\n",
       "      <td>Rock</td>\n",
       "      <td>Rock; Pop; Electronica; Dance; J-Pop/J-Rock; G...</td>\n",
       "    </tr>\n",
       "    <tr>\n",
       "      <th>1</th>\n",
       "      <td>/10000-maniacs/</td>\n",
       "      <td>Because The Night</td>\n",
       "      <td>/10000-maniacs/because-the-night.html</td>\n",
       "      <td>Take me now, baby, here as I am. Hold me close...</td>\n",
       "      <td>ENGLISH</td>\n",
       "      <td>10000 Maniacs</td>\n",
       "      <td>Rock</td>\n",
       "      <td>Rock; Pop; Electronica; Dance; J-Pop/J-Rock; G...</td>\n",
       "    </tr>\n",
       "    <tr>\n",
       "      <th>2</th>\n",
       "      <td>/10000-maniacs/</td>\n",
       "      <td>These Are Days</td>\n",
       "      <td>/10000-maniacs/these-are-days.html</td>\n",
       "      <td>These are. These are days you'll remember. Nev...</td>\n",
       "      <td>ENGLISH</td>\n",
       "      <td>10000 Maniacs</td>\n",
       "      <td>Rock</td>\n",
       "      <td>Rock; Pop; Electronica; Dance; J-Pop/J-Rock; G...</td>\n",
       "    </tr>\n",
       "    <tr>\n",
       "      <th>3</th>\n",
       "      <td>/10000-maniacs/</td>\n",
       "      <td>A Campfire Song</td>\n",
       "      <td>/10000-maniacs/a-campfire-song.html</td>\n",
       "      <td>A lie to say, \"O my mountain has coal veins an...</td>\n",
       "      <td>ENGLISH</td>\n",
       "      <td>10000 Maniacs</td>\n",
       "      <td>Rock</td>\n",
       "      <td>Rock; Pop; Electronica; Dance; J-Pop/J-Rock; G...</td>\n",
       "    </tr>\n",
       "    <tr>\n",
       "      <th>4</th>\n",
       "      <td>/10000-maniacs/</td>\n",
       "      <td>Everyday Is Like Sunday</td>\n",
       "      <td>/10000-maniacs/everyday-is-like-sunday.html</td>\n",
       "      <td>Trudging slowly over wet sand. Back to the ben...</td>\n",
       "      <td>ENGLISH</td>\n",
       "      <td>10000 Maniacs</td>\n",
       "      <td>Rock</td>\n",
       "      <td>Rock; Pop; Electronica; Dance; J-Pop/J-Rock; G...</td>\n",
       "    </tr>\n",
       "    <tr>\n",
       "      <th>...</th>\n",
       "      <td>...</td>\n",
       "      <td>...</td>\n",
       "      <td>...</td>\n",
       "      <td>...</td>\n",
       "      <td>...</td>\n",
       "      <td>...</td>\n",
       "      <td>...</td>\n",
       "      <td>...</td>\n",
       "    </tr>\n",
       "    <tr>\n",
       "      <th>47630</th>\n",
       "      <td>/zz-top/</td>\n",
       "      <td>Whiskey'n Mama</td>\n",
       "      <td>/zz-top/whiskeyn-mama.html</td>\n",
       "      <td>I'm so tired, you on my head.. Whiskey'n mama,...</td>\n",
       "      <td>ENGLISH</td>\n",
       "      <td>ZZ Top</td>\n",
       "      <td>Rock</td>\n",
       "      <td>Rock; Blues; Hard Rock; Country; Hardcore; Sof...</td>\n",
       "    </tr>\n",
       "    <tr>\n",
       "      <th>47631</th>\n",
       "      <td>/zz-top/</td>\n",
       "      <td>Woke Up With Wood</td>\n",
       "      <td>/zz-top/woke-up-with-wood.html</td>\n",
       "      <td>When I woke up this morning. I was feeling mig...</td>\n",
       "      <td>ENGLISH</td>\n",
       "      <td>ZZ Top</td>\n",
       "      <td>Rock</td>\n",
       "      <td>Rock; Blues; Hard Rock; Country; Hardcore; Sof...</td>\n",
       "    </tr>\n",
       "    <tr>\n",
       "      <th>47632</th>\n",
       "      <td>/zz-top/</td>\n",
       "      <td>World of Swirl</td>\n",
       "      <td>/zz-top/world-of-swirl.html</td>\n",
       "      <td>I hit the street running, had an angle in mind...</td>\n",
       "      <td>ENGLISH</td>\n",
       "      <td>ZZ Top</td>\n",
       "      <td>Rock</td>\n",
       "      <td>Rock; Blues; Hard Rock; Country; Hardcore; Sof...</td>\n",
       "    </tr>\n",
       "    <tr>\n",
       "      <th>47633</th>\n",
       "      <td>/zz-top/</td>\n",
       "      <td>Your Legs Are As Hairy As My Beard</td>\n",
       "      <td>/zz-top/your-legs-are-as-hairy-as-my-beard.html</td>\n",
       "      <td>I've got a beard. And it is long. And you've g...</td>\n",
       "      <td>ENGLISH</td>\n",
       "      <td>ZZ Top</td>\n",
       "      <td>Rock</td>\n",
       "      <td>Rock; Blues; Hard Rock; Country; Hardcore; Sof...</td>\n",
       "    </tr>\n",
       "    <tr>\n",
       "      <th>47634</th>\n",
       "      <td>/zz-top/</td>\n",
       "      <td>Zipper Job</td>\n",
       "      <td>/zz-top/zipper-job.html</td>\n",
       "      <td>He/she wanna be. Body and soul just don't agre...</td>\n",
       "      <td>ENGLISH</td>\n",
       "      <td>ZZ Top</td>\n",
       "      <td>Rock</td>\n",
       "      <td>Rock; Blues; Hard Rock; Country; Hardcore; Sof...</td>\n",
       "    </tr>\n",
       "  </tbody>\n",
       "</table>\n",
       "<p>46845 rows × 8 columns</p>\n",
       "</div>"
      ],
      "text/plain": [
       "                 ALink                               SName  \\\n",
       "0      /10000-maniacs/                      More Than This   \n",
       "1      /10000-maniacs/                   Because The Night   \n",
       "2      /10000-maniacs/                      These Are Days   \n",
       "3      /10000-maniacs/                     A Campfire Song   \n",
       "4      /10000-maniacs/             Everyday Is Like Sunday   \n",
       "...                ...                                 ...   \n",
       "47630         /zz-top/                      Whiskey'n Mama   \n",
       "47631         /zz-top/                   Woke Up With Wood   \n",
       "47632         /zz-top/                      World of Swirl   \n",
       "47633         /zz-top/  Your Legs Are As Hairy As My Beard   \n",
       "47634         /zz-top/                          Zipper Job   \n",
       "\n",
       "                                                 SLink  \\\n",
       "0                   /10000-maniacs/more-than-this.html   \n",
       "1                /10000-maniacs/because-the-night.html   \n",
       "2                   /10000-maniacs/these-are-days.html   \n",
       "3                  /10000-maniacs/a-campfire-song.html   \n",
       "4          /10000-maniacs/everyday-is-like-sunday.html   \n",
       "...                                                ...   \n",
       "47630                       /zz-top/whiskeyn-mama.html   \n",
       "47631                   /zz-top/woke-up-with-wood.html   \n",
       "47632                      /zz-top/world-of-swirl.html   \n",
       "47633  /zz-top/your-legs-are-as-hairy-as-my-beard.html   \n",
       "47634                          /zz-top/zipper-job.html   \n",
       "\n",
       "                                                   Lyric    Idiom  \\\n",
       "0      I could feel at the time. There was no way of ...  ENGLISH   \n",
       "1      Take me now, baby, here as I am. Hold me close...  ENGLISH   \n",
       "2      These are. These are days you'll remember. Nev...  ENGLISH   \n",
       "3      A lie to say, \"O my mountain has coal veins an...  ENGLISH   \n",
       "4      Trudging slowly over wet sand. Back to the ben...  ENGLISH   \n",
       "...                                                  ...      ...   \n",
       "47630  I'm so tired, you on my head.. Whiskey'n mama,...  ENGLISH   \n",
       "47631  When I woke up this morning. I was feeling mig...  ENGLISH   \n",
       "47632  I hit the street running, had an angle in mind...  ENGLISH   \n",
       "47633  I've got a beard. And it is long. And you've g...  ENGLISH   \n",
       "47634  He/she wanna be. Body and soul just don't agre...  ENGLISH   \n",
       "\n",
       "              artist genre                                             Genres  \n",
       "0      10000 Maniacs  Rock  Rock; Pop; Electronica; Dance; J-Pop/J-Rock; G...  \n",
       "1      10000 Maniacs  Rock  Rock; Pop; Electronica; Dance; J-Pop/J-Rock; G...  \n",
       "2      10000 Maniacs  Rock  Rock; Pop; Electronica; Dance; J-Pop/J-Rock; G...  \n",
       "3      10000 Maniacs  Rock  Rock; Pop; Electronica; Dance; J-Pop/J-Rock; G...  \n",
       "4      10000 Maniacs  Rock  Rock; Pop; Electronica; Dance; J-Pop/J-Rock; G...  \n",
       "...              ...   ...                                                ...  \n",
       "47630         ZZ Top  Rock  Rock; Blues; Hard Rock; Country; Hardcore; Sof...  \n",
       "47631         ZZ Top  Rock  Rock; Blues; Hard Rock; Country; Hardcore; Sof...  \n",
       "47632         ZZ Top  Rock  Rock; Blues; Hard Rock; Country; Hardcore; Sof...  \n",
       "47633         ZZ Top  Rock  Rock; Blues; Hard Rock; Country; Hardcore; Sof...  \n",
       "47634         ZZ Top  Rock  Rock; Blues; Hard Rock; Country; Hardcore; Sof...  \n",
       "\n",
       "[46845 rows x 8 columns]"
      ]
     },
     "execution_count": 140,
     "metadata": {},
     "output_type": "execute_result"
    }
   ],
   "source": [
    "df_cleaned"
   ]
  },
  {
   "cell_type": "code",
   "execution_count": 142,
   "metadata": {},
   "outputs": [],
   "source": [
    "cols = ['Lyric', 'SName', 'artist']\n",
    "df_cleaned[cols].to_csv('lyrics_artist_sname.csv', index=False)"
   ]
  }
 ],
 "metadata": {
  "kernelspec": {
   "display_name": "Python [conda env:root] *",
   "language": "python",
   "name": "conda-root-py"
  },
  "language_info": {
   "codemirror_mode": {
    "name": "ipython",
    "version": 3
   },
   "file_extension": ".py",
   "mimetype": "text/x-python",
   "name": "python",
   "nbconvert_exporter": "python",
   "pygments_lexer": "ipython3",
   "version": "3.7.6"
  }
 },
 "nbformat": 4,
 "nbformat_minor": 4
}
